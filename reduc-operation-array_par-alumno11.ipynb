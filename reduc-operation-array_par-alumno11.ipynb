{
 "cells": [
  {
   "cell_type": "markdown",
   "id": "f942d288-be01-42cd-9b84-83529c6769be",
   "metadata": {},
   "source": [
    "## Reduction operation: the sum of the numbers in the range [0, value)"
   ]
  },
  {
   "cell_type": "code",
   "execution_count": 1,
   "id": "496946fa-2a28-4c1d-8a6a-2ee0b8fd8ced",
   "metadata": {},
   "outputs": [
    {
     "name": "stdout",
     "output_type": "stream",
     "text": [
      "Time taken by reduction operation using a function: 44.6 ms ± 63 µs per loop (mean ± std. dev. of 2 runs, 10 loops each)\n",
      "And the result of the sum of numbers in the range [0, value) is: 24966.22672115008\n",
      "\n",
      "Time taken by reduction operation using numpy.sum(): 91.7 µs ± 797 ns per loop (mean ± std. dev. of 2 runs, 10,000 loops each)\n",
      "Now, the result using numpy.sum(): 24966.22672114992 \n",
      " \n",
      "Time taken by reduction operation using numpy.ndarray.sum(): 73 µs ± 193 ns per loop (mean ± std. dev. of 2 runs, 10,000 loops each)\n",
      "Now, the result using numpy.ndarray.sum(): 24966.22672114992\n"
     ]
    }
   ],
   "source": [
    "import numpy as np\n",
    "import sys\n",
    "\n",
    "def reduc_operation(A):\n",
    "    \"\"\"Compute the sum of the elements of Array A in the range [0, value).\"\"\"\n",
    "    s = 0\n",
    "    for i in range(A.size):\n",
    "        s += A[i]\n",
    "    return s\n",
    "\n",
    "# Secuencial\n",
    "\n",
    "value=int(sys.argv[1])\n",
    "\n",
    "X = np.random.rand(value)\n",
    "\n",
    "# Para imprimir los pimeros valores del array\n",
    "\n",
    "# print(X[0:12])\n",
    "\n",
    "# Utilizando las operaciones mágicas de ipython\n",
    "\n",
    "tiempo = %timeit -r 2 -o -q reduc_operation(X)\n",
    "\n",
    "print(\"Time taken by reduction operation using a function:\", tiempo)\n",
    "\n",
    "\n",
    "print(f\"And the result of the sum of numbers in the range [0, value) is: {reduc_operation(X)}\\n\")\n",
    "\n",
    "\n",
    "# Utilizando numpy.sum()\n",
    "\n",
    "tiempo = %timeit -r 2 -o -q np.sum(X)\n",
    "\n",
    "print(\"Time taken by reduction operation using numpy.sum():\", tiempo)\n",
    "\n",
    "print(\"Now, the result using numpy.sum():\", np.sum(X),\"\\n \")\n",
    "\n",
    "\n",
    "# Utilizando numpy.ndarray.sum()\n",
    "\n",
    "tiempo= %timeit -r 2 -o -q X.sum()\n",
    "\n",
    "print(\"Time taken by reduction operation using numpy.ndarray.sum():\", tiempo)\n",
    "\n",
    "print(\"Now, the result using numpy.ndarray.sum():\", X.sum())\n",
    "\n",
    "\n"
   ]
  },
  {
   "cell_type": "markdown",
   "id": "a680c477-61d4-4251-a53b-926b872f5326",
   "metadata": {},
   "source": [
    "a) Librería multiprocessing: En la siguiente celda de código del notebook4 vas a utilizar el paquete\n",
    "multiprocessing para acelerar la operación de reducción. Para ello, importa Pool de la librería\n",
    "multiprocessing, y con la función map llama a la función reduc_operation creando solo un proceso\n",
    "con el tamaño del array original de [0, value], creando 2 procesos llamándolos con 2 arrays que tienen\n",
    "la copia de los valores del array original pero de tamaños [0, int(value/2)] y [int(value/2), value)], y\n",
    "creando 4 procesos que llaman a la función con 4 arrays que tienen la copia de los valores del array\n",
    "original pero de tamaños [0, int(value/4)], [int(value/4), int(value/2)], [int(value/2), int(3*value/4)]y [int(3*value/4), value]. Como verás, el tiempo para calcular la suma va disminuyendocada vezque duplicas el número de procesos (cores) que usas.\n"
   ]
  },
  {
   "cell_type": "code",
   "execution_count": 3,
   "id": "d46bd600-e517-4eb9-a34d-e56a6e750fb2",
   "metadata": {},
   "outputs": [
    {
     "name": "stdout",
     "output_type": "stream",
     "text": [
      "la suma total para 1proceso es 24999757.935457647 con un tiempo de 48.190600633621216 segundos\n",
      "la suma total para 2proceso es 24999757.935450844 con un tiempo de 26.063174724578857 segundos\n",
      "la suma total para 4proceso es 24999757.935453597 con un tiempo de 13.571947813034058 segundos\n"
     ]
    }
   ],
   "source": [
    "from multiprocessing import Pool\n",
    "import numpy as np\n",
    "import time\n",
    "#recuperamos la funcion de reduc_operation\n",
    "def reduc_operation(A):\n",
    "    \"\"\"Compute the sum of the elements of Array A in the range [0, value).\"\"\"\n",
    "    s = 0\n",
    "    for i in range(A.size):\n",
    "        s += A[i]\n",
    "    return s\n",
    "X = np.random.rand(value)#volvemos a crear el array entre 0-1 con una longitud de value\n",
    "#para separar los arrays necesitamos una funcion que reciba el array y el numero de particiones\n",
    "def separador(array, partes):\n",
    "    tamaño_subarrays=len(array)//partes\n",
    "    lista_arrays=[]#la idea es tener listas de arrays para luego aplicarle a todas la funcion reduc_operation con maop\n",
    "    for i in range (partes):\n",
    "        inicio=i*tamaño_subarrays\n",
    "        if i==partes-1:#siempre debemos considerar que la iteracion para la lista finaliza un número de n-partes divididas porque empezamos la iteracion en el 0\n",
    "            fin=len(array)\n",
    "        else:\n",
    "            fin=(i+1)*tamaño_subarrays\n",
    "        lista_arrays.append(array[inicio:fin])\n",
    "\n",
    "    return lista_arrays\n",
    "\n",
    "def paralelo(array,n_procesos):\n",
    "    lista_subarrays=separador(array,n_procesos)#usamos la funcion separador para dividir el array antes de trabajar con el\n",
    "    with Pool(processes=n_procesos) as pool:\n",
    "        #map nos hace aplicar una funcion a cada elemento de una lista\n",
    "        suma_subarray=pool.map(reduc_operation,lista_subarrays)#con map no hay que llamar a al funcion directamente y pasarle parámetros\n",
    "        return np.sum(suma_subarray)\n",
    "\n",
    "#Vamos a resolver el apartado A para 1,2 y 4 procesos y arrays del tamaño de cada subproceso\n",
    "\n",
    "for i in [1,2,4]:\n",
    "    tiempoini=time.time()\n",
    "    suma=paralelo(X,i)\n",
    "    tiempofin=time.time()\n",
    "    print(f\"la suma total para {i}proceso es {suma} con un tiempo de {tiempofin-tiempoini} segundos\")\n",
    "    \n"
   ]
  },
  {
   "cell_type": "markdown",
   "id": "af8c701f-0032-40f5-b1bf-cfac5af9312e",
   "metadata": {},
   "source": [
    "b) Libreria Numba: En la siguiente celda de código vamos a utilizar el paquete numba. Importa de\n",
    "dicho paquete njit y prange, y haz 2 nuevas versiones de la función original reduc_operation(A)\n",
    "decorándolas con el decorador @njit y @njit(parallel=True)5\n",
    "respectivamente. Como ya vimos en la\n",
    "práctica anterior, solo con utilizar @njit se mejora mucho el tiempo de ejecución, pero si además\n",
    "ejecutamos en paralelo aún se nota una mayor reducción de tiempo.\n"
   ]
  },
  {
   "cell_type": "code",
   "execution_count": 13,
   "id": "ad80c5e1-bfd8-4b4f-92fb-c90efb6ea2f4",
   "metadata": {},
   "outputs": [
    {
     "name": "stdout",
     "output_type": "stream",
     "text": [
      "Time taken by reduction operation using a function: 196 ms ± 1.28 ms per loop (mean ± std. dev. of 2 runs, 1 loop each)\n",
      "Time taken by reduction operation using a function: 15.2 ms ± 3.34 ms per loop (mean ± std. dev. of 2 runs, 1 loop each)\n"
     ]
    }
   ],
   "source": [
    "from numba import njit, prange\n",
    "import numpy as np\n",
    "#version 1 con njit\n",
    "@njit\n",
    "def reduc_operation_secuencial(A):\n",
    "    \"\"\"Compute the sum of the elements of Array A in the range [0, value).\"\"\"\n",
    "    s = 0\n",
    "    for i in range(A.size):\n",
    "        s += A[i]\n",
    "    return s\n",
    "    \n",
    "@njit(parallel=True)\n",
    "def reduc_operation_paralela(A):\n",
    "    \"\"\"Compute the sum of the elements of Array A in the range [0, value).\"\"\"\n",
    "    s = 0\n",
    "    for i in prange(A.size):\n",
    "        s += A[i]\n",
    "    return s\n",
    "\n",
    "\n",
    "X = np.random.rand(value)\n",
    "\n",
    "tiempo1 = %timeit -r 2 -o -q reduc_operation_secuencial(X)\n",
    "tiempo2 = %timeit -r 2 -o -q reduc_operation_paralela(X)\n",
    "\n",
    "print(\"Time taken by reduction operation using a function:\", tiempo1)\n",
    "print(\"Time taken by reduction operation using a function:\", tiempo2)"
   ]
  },
  {
   "cell_type": "markdown",
   "id": "f5ca391b-29bb-49a7-8251-c3238756480a",
   "metadata": {},
   "source": [
    "#APARTADO D pego la salida de mi sbatch:\n",
    "Numero de la variable value 50000000\n",
    "Time taken by reduction operation using a function: 45.2 s ± 89.6 ms per loop (mean ± std. dev. of 2 runs, 1 loop each)\n",
    "And the result of the sum of numbers in the range [0, value) is: 24998354.356284916\n",
    "\n",
    "Time taken by reduction operation using numpy.sum(): 60.5 ms ± 419 µs per loop (mean ± std. dev. of 2 runs, 10 loops each)\n",
    "Now, the result using numpy.sum(): 24998354.356286045 \n",
    " \n",
    "Time taken by reduction operation using numpy.ndarray.sum(): 60.7 ms ± 826 µs per loop (mean ± std. dev. of 2 runs, 10 loops each)\n",
    "Now, the result using numpy.ndarray.sum(): 24998354.356286045\n",
    "la suma total para 1proceso es 24998071.18308363 con un tiempo de 47.24898386001587 segundos\n",
    "la suma total para 2proceso es 24998071.18307965 con un tiempo de 25.767412662506104 segundos\n",
    "la suma total para 4proceso es 24998071.183079787 con un tiempo de 13.36642861366272 segundos\n",
    "Time taken by reduction operation using a function: 197 ms ± 1.51 ms per loop (mean ± std. dev. of 2 runs, 1 loop each)\n",
    "Time taken by reduction operation using a function: 19.2 ms ± 6.33 ms per loop (mean ± std. dev. of 2 runs, 1 loop each)\n",
    "\n",
    "#EXPLICACION Y ANALISIS:\n",
    "\n",
    "-Respecto a multiprocessing debemos tener en cuenta que  utilizamos python  interpretando linea a linea el código, observamos que la mejora con el paralelismo prácticamente es un x2 cuando dividimos \"el doble\" los procesos de la tarea entre núcleos. La mejora no es muy interesante cuando usamos de esta forma python e implementamos el paralelismo.\n",
    "\n",
    "-Respecto a numba y numpy conjuntas, observamos una mejora considerable. Dentro de estas dos versiones donde gracias a njit ya compilamos parte del código y nos permite óptimizar enormemente el tiempo de ejecución:\n",
    "njit sin paralelismo es buena mejora, unas 230 veces más rápida que  la versión inicial de nuestro código{reduct operation}.\n",
    "njit con paralelismo activado es 2300 veces más rapidas que la version de reduct operation(ganadora).\n",
    "\n",
    "-Sin embargo, cuando reobservamos los resultados con el uso de numpy vemos que numpy.sum  con  60.5 ms, es muy buena opción cuando la comparamos con el uso de numba. Pero al combinar numba con procesos en paralelo y numpy, obtenemos una optimización en el tiempo de ejecución que la convirtiendose en la candidata favorita.\n",
    "\n"
   ]
  }
 ],
 "metadata": {
  "kernelspec": {
   "display_name": "Python 3 (ipykernel)",
   "language": "python",
   "name": "python3"
  },
  "language_info": {
   "codemirror_mode": {
    "name": "ipython",
    "version": 3
   },
   "file_extension": ".py",
   "mimetype": "text/x-python",
   "name": "python",
   "nbconvert_exporter": "python",
   "pygments_lexer": "ipython3",
   "version": "3.8.17"
  }
 },
 "nbformat": 4,
 "nbformat_minor": 5
}
