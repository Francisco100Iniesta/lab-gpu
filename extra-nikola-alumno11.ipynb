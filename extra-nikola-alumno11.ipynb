{
 "cells": [
  {
   "cell_type": "markdown",
   "id": "56effceb-ac98-4e63-a2b0-971b5659a250",
   "metadata": {},
   "source": [
    "#EJERCICIO EXTRA\n",
    "\n",
    "He escogido la recomendación 1\n",
    "\n",
    "1. Con respecto a la librería multiprocessing, utilizar la función starmap para crear los procesos que se van a ejecutar en paralelo. La función starmap tiene la ventaja de que puede crear procesos\n",
    "pasándole diversos parámetros, por lo que no será necesario realizar diversas copias del array original al que queremos realizar la operación de reducción de sus elementos. Para ello, lo primero\n",
    "es modificar la función de la reducción def reduc_operation(A) para que te permita pasarle, además del array a sumar, otros 2 parámetros adicionales, el de inicio y el de fin de la operación\n",
    "de reducción. Por tanto, dicha función debe quedar así: def sum_multiprocessing(A, ini, fin). A continuación, debes llamar a la nueva función sum_multiprocessing creando solo un proceso que\n",
    "sume todo el array (valores [0, value]), creando 2 procesos que sume la mitad del array (valores [(0, int(value/2)), (int(value/2), value)]), y creando 4 procesos que sumen cada uno la cuarta parte\n",
    "del array (valores [(0, int(value/4)), (int(value/4), int(value/2)), (int(value/2), int(3*value/4)), (int(3*value/4), value)]).\n"
   ]
  },
  {
   "cell_type": "code",
   "execution_count": 8,
   "id": "00d1af8f-a28e-4704-bb31-b12f071a3cf4",
   "metadata": {},
   "outputs": [
    {
     "name": "stdout",
     "output_type": "stream",
     "text": [
      "El resultado para 1 procesos es 49998808.07328359\n",
      " Con un tiempo total de: 11.337566614151001 segundos\n",
      "El resultado para 2 procesos es 49998808.073284715\n",
      " Con un tiempo total de: 6.490646839141846 segundos\n",
      "El resultado para 4 procesos es 49998808.07328985\n",
      " Con un tiempo total de: 6.162145137786865 segundos\n"
     ]
    }
   ],
   "source": [
    "from multiprocessing import Pool\n",
    "import numpy as np\n",
    "import time\n",
    "import sys\n",
    "#la idea es usar starmap para pasar a nuestra funcion listas de parametros a ejecutar\n",
    "#cada uno de estos procesos los ejecutaremos en paralelo gracias a pool\n",
    "#modifico la funcion para que ahora coja rangos\n",
    "\n",
    "def sum_multiprocessing(A, ini, fin):\n",
    "    \"\"\"Compute the sum of the elements of Array A in the range [0, value).\"\"\"\n",
    "    s = 0\n",
    "    for i in range(ini,fin):\n",
    "        s += A[i]\n",
    "    return s\n",
    "value=int(sys.argv[1])\n",
    "A=np.random.rand(value)\n",
    "#definimos los rangos que puede tomar starmap\n",
    "rango1=[(A, 0 , value)]#ESTE RANGO COGE LA matriz e indica que el inicio de esta subseleccion va de 0 al final\n",
    "rango2=[(A, 0, value // 2), (A, value // 2, value)]#creamos un rango con 2 tuplas de parametros una de 0 a la mitad y otra de la mitad al final\n",
    "rango3=[(A, 0, value // 4), (A, value // 4, value // 2), (A, value // 2, 3 * value // 4), (A, 3 * value // 4, value)]#seria identica a la anterior pero dividiendo en 4 los subrangos\n",
    "rangos={1:rango1,2:rango2,4:rango3}#voy  a crear un diccionario con clave procesos y valor el rango en si \n",
    "#creo que sería practico englobar un for la iteracion de todos los varlores\n",
    "def calculo(lista_rangos):#voy a crear una funcion que englobe todo mezcvlando mi funcion suma y map\n",
    "    with Pool() as pool:\n",
    "        for clave,valor in lista_rangos.items():\n",
    "            start=time.time()\n",
    "            resultado=sum(pool.starmap(sum_multiprocessing , valor))\n",
    "            fin=time.time()\n",
    "            print(f\"El resultado para {clave} procesos es {resultado}\\n Con un tiempo total de: {fin-start} segundos\")\n",
    "\n",
    "\n",
    "\n",
    "#ejecutamos\n",
    "calculo(rangos)"
   ]
  },
  {
   "cell_type": "markdown",
   "id": "69504681-a532-46a7-a8b8-e7e83ca4ec9c",
   "metadata": {},
   "source": [
    "TRAS CREAR UN SCRIP PARA HACER EJECUTAR ESTE NOTEBOOK EN NIKOLA-CPU OBTUVE LOS SIGUIENTE RESULTADOS:"
   ]
  },
  {
   "cell_type": "markdown",
   "id": "f6badb2e-a5f2-42cd-8778-160b557d70a2",
   "metadata": {},
   "source": [
    "Ejecutamos el scrip extra con value = 10000000\n",
    "El resultado para 1 procesos es 5000149.961484284\n",
    " Con un tiempo total de: 0.9630391597747803 segundos\n",
    "El resultado para 2 procesos es 5000149.961485153\n",
    " Con un tiempo total de: 0.6223604679107666 segundos\n",
    "El resultado para 4 procesos es 5000149.961484959\n",
    " Con un tiempo total de: 0.48590922355651855 segundos\n"
   ]
  },
  {
   "cell_type": "markdown",
   "id": "57b3a0fc-3dfb-4d80-85b9-e305a41c3604",
   "metadata": {},
   "source": [
    "CONCLUSIONES:\n",
    "\n",
    "Se observa claramente como el paralelismo y el uso de más nucleos al dividir procesos optimiza el tiempo.\n",
    "Todo esto indica que al dividir en procesos las operaciones de un array y dividir esa carga entre nucleos, mejoramos la eficiencia de nuestro programa.\n",
    "-La mejora es notoria si nos fijamos de 1 a 4 es un salto de casi el doble de velocidad. \n",
    "-De 1 a 2 (procesos/nucleos)tenemos un 35% de mejora.  \n",
    "-De 2 a 4(procesos/nucleos) un 22%.\n",
    "\n",
    "Por lo que más nucleos y más procesos no es una mejora lineal y parece que tendriamos una asíntota si representáramos: nucleos/procesos vs tiempo. \n",
    "Con una mejora decreciente a medida que aumentan los nucleos."
   ]
  }
 ],
 "metadata": {
  "kernelspec": {
   "display_name": "Python 3 (ipykernel)",
   "language": "python",
   "name": "python3"
  },
  "language_info": {
   "codemirror_mode": {
    "name": "ipython",
    "version": 3
   },
   "file_extension": ".py",
   "mimetype": "text/x-python",
   "name": "python",
   "nbconvert_exporter": "python",
   "pygments_lexer": "ipython3",
   "version": "3.8.17"
  }
 },
 "nbformat": 4,
 "nbformat_minor": 5
}
